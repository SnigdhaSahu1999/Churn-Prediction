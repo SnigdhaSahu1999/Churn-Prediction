{
 "cells": [
  {
   "cell_type": "code",
   "execution_count": 2,
   "metadata": {
    "scrolled": true
   },
   "outputs": [
    {
     "name": "stdout",
     "output_type": "stream",
     "text": [
      "Accuracy of linear model used for predicting a null values of TotalCharges in the data set :  0.4238558780398537\n",
      "Comparision chart  based on F1 Score of the models : \n"
     ]
    },
    {
     "data": {
      "image/png": "[encoded data removed]",
      "text/plain": [
       "<Figure size 432x288 with 1 Axes>"
      ]
     },
     "metadata": {},
     "output_type": "display_data"
    }
   ],
   "source": [
    "import numpy as np\n",
    "import  pandas as pd\n",
    "from sklearn.metrics import f1_score\n",
    "import matplotlib.pyplot as plt\n",
    "from sklearn import linear_model\n",
    "from sklearn.model_selection import train_test_split\n",
    "from sklearn.tree import DecisionTreeClassifier\n",
    "from sklearn.neighbors import KNeighborsClassifier\n",
    "from sklearn import model_selection\n",
    "from sklearn.linear_model import LogisticRegression\n",
    "from sklearn.metrics import accuracy_score\n",
    "from sklearn.metrics import confusion_matrix\n",
    "from sklearn.naive_bayes import GaussianNB\n",
    "from sklearn.ensemble import BaggingClassifier\n",
    "from sklearn.tree import DecisionTreeClassifier\n",
    "from sklearn.ensemble import RandomForestClassifier\n",
    "from sklearn.ensemble import VotingClassifier\n",
    "\n",
    "\n",
    "cd=pd.read_csv(\"telecom.csv\")\n",
    "cdf=pd.DataFrame(cd)\n",
    "list1 = [ 'OnlineSecurity', 'OnlineBackup', 'DeviceProtection',\n",
    "                'TechSupport','StreamingTV', 'StreamingMovies']\n",
    "for i in list1:\n",
    "    cdf[i] = cdf[i].replace({'No internet service':'No'})\n",
    "cdf['MultipleLines'] = cdf['MultipleLines'].replace({'No phone service':'No'})\n",
    "\n",
    "list2=[ 'OnlineSecurity', 'OnlineBackup', 'DeviceProtection','Churn',\n",
    "                'TechSupport','StreamingTV', 'StreamingMovies','MultipleLines','Partner','Dependents','PaperlessBilling','PhoneService']\n",
    "for i in list2:\n",
    "    cdf[i]= cdf[i].replace({'Yes':1,'No':0})\n",
    "gen=pd.get_dummies(cdf[\"gender\"],drop_first = True)\n",
    "cdf=pd.concat((cdf,gen),axis=1)\n",
    "cdf.drop(['gender'],axis=1,inplace=True)\n",
    "y=pd.get_dummies(cdf[\"InternetService\"])\n",
    "y.drop(['No'],axis=1,inplace=True)\n",
    "cdf.drop(['InternetService'],axis=1,inplace=True)\n",
    "cdf=pd.concat((cdf,y),axis=1)\n",
    "x=pd.get_dummies(cdf[\"Contract\"])\n",
    "cdf.drop([\"Contract\"],axis=1,inplace=True)\n",
    "cdf=pd.concat((cdf,x),axis=1)\n",
    "cdf.drop([\"PaymentMethod\"],axis=1,inplace=True)\n",
    "cdf.drop([\"customerID\"],axis=1,inplace=True)\n",
    "cdf['tenure']=cdf['tenure'].replace({0:0.1})\n",
    "ten=np.log(cdf['tenure'])\n",
    "cdf.drop([\"tenure\"],axis=1,inplace=True)\n",
    "cdf=pd.concat((cdf,ten),axis=1)\n",
    "cdf['TotalCharges'] =pd.to_numeric(cdf['TotalCharges'], errors ='coerce')\n",
    "z=cdf.dropna()\n",
    "index =cdf['TotalCharges'].index[cdf['TotalCharges'].apply(np.isnan)]\n",
    "c=[]\n",
    "c.extend(index)\n",
    "\n",
    "d=cdf.loc[c,[\"MonthlyCharges\"]]\n",
    "\n",
    "\n",
    "x= z[\"MonthlyCharges\"].values\n",
    "\n",
    "m=len(x)\n",
    "x=x.reshape((m,-1))\n",
    "\n",
    "\n",
    "\n",
    "\n",
    "y= z[\"TotalCharges\"].values\n",
    "y = y.reshape((m,-1))\n",
    "\n",
    "regmodel=linear_model.LinearRegression()\n",
    "x_train,x_test,y_train,y_test= train_test_split(x,y,test_size=0.3,random_state=42)\n",
    "regmodel.fit(x_train,y_train)\n",
    "a= regmodel.predict(d)\n",
    "\n",
    "list1=[]\n",
    "for i in a:\n",
    "    list1.extend(i)\n",
    "\n",
    "r2= regmodel.score(x,y)\n",
    "print(\"Accuracy of linear model used for predicting a null values of TotalCharges in the data set : \", r2)\n",
    "\n",
    "for i in list1:\n",
    "    cdf['TotalCharges']=(cdf['TotalCharges'].fillna(i,limit= 1))\n",
    "\n",
    "\n",
    "tc=np.log(cdf['TotalCharges'])\n",
    "cdf.drop(['TotalCharges'],axis=1,inplace=True)\n",
    "cdf=pd.concat((cdf,tc),axis=1)\n",
    "mc=np.log(cdf['MonthlyCharges'])\n",
    "cdf.drop(['MonthlyCharges'],axis=1,inplace=True)\n",
    "cdf=pd.concat((cdf,mc),axis=1)\n",
    "\n",
    "cdf=cdf.abs()\n",
    "\n",
    "\n",
    "\n",
    "x=cdf.drop('Churn',axis=1)\n",
    "y=cdf['Churn']\n",
    "# prepare configuration fro cross validation test harness\n",
    "seed=7\n",
    "#prepare models\n",
    "models=[]\n",
    "models.append(('LR',LogisticRegression()))\n",
    "models.append(('KNN',KNeighborsClassifier()))\n",
    "models.append(('DECISION TREE',DecisionTreeClassifier()))\n",
    "models.append(('NB',GaussianNB()))\n",
    "\n",
    "results=[]\n",
    "names=[]\n",
    "scoring='f1'\n",
    "for name,model in models:\n",
    "    kfold=model_selection.KFold(n_splits=10,random_state=seed)\n",
    "    cv_results=model_selection.cross_val_score(model,x,y,cv=kfold,scoring=scoring)\n",
    "    results.append(cv_results)\n",
    "    names.append(name)\n",
    "    msg=\"%s: %f (%f)\" % (name,cv_results.mean(),cv_results.std())\n",
    "fig=plt.figure()\n",
    "fig.suptitle('Algorithm Comparison')\n",
    "ax=fig.add_subplot(111)\n",
    "plt.boxplot(results)\n",
    "ax.set_xticklabels(names)\n",
    "print(\"Comparision chart  based on F1 Score of the models : \")\n",
    "plt.show()\n",
    "\n",
    "\n"
   ]
  },
  {
   "cell_type": "code",
   "execution_count": 2,
   "metadata": {},
   "outputs": [
    {
     "data": {
      "image/png": "[encoded data removed]",
      "text/plain": [
       "<Figure size 432x288 with 1 Axes>"
      ]
     },
     "metadata": {},
     "output_type": "display_data"
    }
   ],
   "source": [
    "import matplotlib.pyplot as plt\n",
    "import numpy as np\n",
    "list4=[59.69543147208122, 49.81617647058824, 60.15779092702169, 61.678321678321666, 56.063618290258454, 56.93730729701954,\n",
    "       48.426150121065376, 61.89473684210526, 59.61342828077314, 61.11111111111111, 60.10050251256281, 59.61342828077314, \n",
    "       59.781529294935446]\n",
    "list3=['LR','DT','K-NN','NB','BC-DT','RF','V-LR,DT','BG-NB','V-LR,NB','V-LR,NB,KNN','V-LR,NB,KNN,DT','BG-NB','BG-KNN']\n",
    "\n",
    "xpos=np.arange(len(list3))\n",
    "plt.xticks(xpos,list3)\n",
    "plt.ylabel(\"F1 score\")\n",
    "plt.title(\"Comparision of F1 score:\")\n",
    "plt.bar(xpos,list4,width=0.3,label=\"F1 of the models\")\n",
    "plt.legend()\n",
    "plt.show()"
   ]
  },
  {
   "cell_type": "code",
   "execution_count": null,
   "metadata": {},
   "outputs": [],
   "source": []
  },
  {
   "cell_type": "code",
   "execution_count": null,
   "metadata": {},
   "outputs": [],
   "source": []
  }
 ],
 "metadata": {
  "kernelspec": {
   "display_name": "Python 3",
   "language": "python",
   "name": "python3"
  },
  "language_info": {
   "codemirror_mode": {
    "name": "ipython",
    "version": 3
   },
   "file_extension": ".py",
   "mimetype": "text/x-python",
   "name": "python",
   "nbconvert_exporter": "python",
   "pygments_lexer": "ipython3",
   "version": "3.6.5"
  }
 },
 "nbformat": 4,
 "nbformat_minor": 2
}
